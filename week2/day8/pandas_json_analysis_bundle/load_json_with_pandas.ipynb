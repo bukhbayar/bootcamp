{
 "cells": [
  {
   "cell_type": "code",
   "execution_count": null,
   "id": "3127561b",
   "metadata": {},
   "outputs": [],
   "source": [
    "import pandas as pd\n",
    "import json\n",
    "\n",
    "# Load local JSON file\n",
    "with open(\"employees.json\") as f:\n",
    "    data = json.load(f)"
   ]
  },
  {
   "cell_type": "code",
   "execution_count": null,
   "id": "43da6b29",
   "metadata": {},
   "outputs": [],
   "source": [
    "# Convert to DataFrame\n",
    "df = pd.DataFrame(data[\"employees\"])\n",
    "\n",
    "# Show the data\n",
    "print(\"Original DataFrame:\")\n",
    "df"
   ]
  },
  {
   "cell_type": "code",
   "execution_count": null,
   "id": "68154dcb",
   "metadata": {},
   "outputs": [],
   "source": [
    "# Filter employees older than 30\n",
    "older_than_30 = df[df[\"age\"] > 30]\n",
    "older_than_30"
   ]
  },
  {
   "cell_type": "code",
   "execution_count": null,
   "id": "151b6535",
   "metadata": {},
   "outputs": [],
   "source": [
    "# Apply a function to create a new column\n",
    "def seniority(age):\n",
    "    return \"Senior\" if age > 30 else \"Junior\"\n",
    "\n",
    "df[\"seniority\"] = df[\"age\"].apply(seniority)\n",
    "df"
   ]
  },
  {
   "cell_type": "code",
   "execution_count": null,
   "id": "9586080c",
   "metadata": {},
   "outputs": [],
   "source": [
    "# Group by department\n",
    "grouped = df.groupby(\"department\")[\"age\"].mean()\n",
    "grouped"
   ]
  }
 ],
 "metadata": {},
 "nbformat": 4,
 "nbformat_minor": 5
}
