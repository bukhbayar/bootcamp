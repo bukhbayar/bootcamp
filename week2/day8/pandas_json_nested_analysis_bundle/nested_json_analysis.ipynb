{
 "cells": [
  {
   "cell_type": "code",
   "execution_count": null,
   "id": "394e7567",
   "metadata": {},
   "outputs": [],
   "source": [
    "import pandas as pd\n",
    "import json\n",
    "import matplotlib.pyplot as plt\n",
    "\n",
    "# Load nested JSON file\n",
    "with open(\"employees_nested.json\") as f:\n",
    "    data = json.load(f)"
   ]
  },
  {
   "cell_type": "code",
   "execution_count": null,
   "id": "fdff0731",
   "metadata": {},
   "outputs": [],
   "source": [
    "# Normalize JSON and convert to DataFrame\n",
    "df = pd.json_normalize(data[\"employees\"])\n",
    "print(\"Normalized DataFrame:\")\n",
    "df"
   ]
  },
  {
   "cell_type": "code",
   "execution_count": null,
   "id": "86215dc1",
   "metadata": {},
   "outputs": [],
   "source": [
    "# Extract skill columns and plot them\n",
    "skills_df = df[[\"name\", \"skills.python\", \"skills.sql\"]]\n",
    "skills_df.set_index(\"name\").plot(kind=\"bar\", title=\"Skill Ratings by Employee\")\n",
    "plt.ylabel(\"Skill Level (1-5)\")\n",
    "plt.tight_layout()\n",
    "plt.show()"
   ]
  },
  {
   "cell_type": "code",
   "execution_count": null,
   "id": "f830cf32",
   "metadata": {},
   "outputs": [],
   "source": [
    "# Summarize by department\n",
    "dep_summary = df.groupby(\"department\")[[\"skills.python\", \"skills.sql\"]].mean()\n",
    "dep_summary.plot(kind=\"barh\", title=\"Average Skill by Department\")\n",
    "plt.xlabel(\"Average Skill Level\")\n",
    "plt.tight_layout()\n",
    "plt.show()"
   ]
  }
 ],
 "metadata": {},
 "nbformat": 4,
 "nbformat_minor": 5
}
